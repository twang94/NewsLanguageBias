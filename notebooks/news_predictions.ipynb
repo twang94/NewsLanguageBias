{
 "cells": [
  {
   "cell_type": "code",
   "execution_count": 1,
   "metadata": {},
   "outputs": [],
   "source": [
    "import numpy as np\n",
    "import pandas as pd\n",
    "import scipy\n",
    "import sklearn\n",
    "import matplotlib.pyplot as plt\n",
    "import seaborn as sns\n",
    "import re\n",
    "from collections import Counter\n",
    "from time import time\n",
    "%matplotlib inline\n",
    "\n",
    "# Tools for processing data\n",
    "from sklearn.pipeline import make_pipeline\n",
    "from sklearn.decomposition import TruncatedSVD, PCA, NMF\n",
    "from sklearn.model_selection import cross_val_score, train_test_split, GridSearchCV\n",
    "from sklearn.metrics import accuracy_score, recall_score, classification_report, confusion_matrix, make_scorer, adjusted_rand_score, silhouette_score, homogeneity_score, normalized_mutual_info_score\n",
    "# Classifiers, supervised and unsupervised\n",
    "from sklearn import ensemble\n",
    "from sklearn.linear_model import LogisticRegression\n",
    "from sklearn.feature_extraction.text import TfidfVectorizer\n",
    "from sklearn.naive_bayes import MultinomialNB\n",
    "from sklearn.naive_bayes import ComplementNB, BernoulliNB\n",
    "from sklearn import metrics"
   ]
  },
  {
   "cell_type": "code",
   "execution_count": 2,
   "metadata": {},
   "outputs": [],
   "source": [
    "df_leans = pd.read_pickle('data/df_leans.pkl')"
   ]
  },
  {
   "cell_type": "code",
   "execution_count": 225,
   "metadata": {},
   "outputs": [
    {
     "data": {
      "text/html": [
       "<div>\n",
       "<style scoped>\n",
       "    .dataframe tbody tr th:only-of-type {\n",
       "        vertical-align: middle;\n",
       "    }\n",
       "\n",
       "    .dataframe tbody tr th {\n",
       "        vertical-align: top;\n",
       "    }\n",
       "\n",
       "    .dataframe thead th {\n",
       "        text-align: right;\n",
       "    }\n",
       "</style>\n",
       "<table border=\"1\" class=\"dataframe\">\n",
       "  <thead>\n",
       "    <tr style=\"text-align: right;\">\n",
       "      <th></th>\n",
       "      <th>id</th>\n",
       "      <th>title</th>\n",
       "      <th>publication</th>\n",
       "      <th>author</th>\n",
       "      <th>date</th>\n",
       "      <th>year</th>\n",
       "      <th>month</th>\n",
       "      <th>url</th>\n",
       "      <th>content</th>\n",
       "      <th>leaning</th>\n",
       "      <th>factual</th>\n",
       "    </tr>\n",
       "  </thead>\n",
       "  <tbody>\n",
       "    <tr>\n",
       "      <th>0</th>\n",
       "      <td>17283</td>\n",
       "      <td>House Republicans Fret About Winning Their Hea...</td>\n",
       "      <td>New York Times</td>\n",
       "      <td>Carl Hulse</td>\n",
       "      <td>2016-12-31</td>\n",
       "      <td>2016.0</td>\n",
       "      <td>12.0</td>\n",
       "      <td>NaN</td>\n",
       "      <td>WASHINGTON  —   Congressional Republicans have...</td>\n",
       "      <td>Left-Center</td>\n",
       "      <td>High</td>\n",
       "    </tr>\n",
       "    <tr>\n",
       "      <th>1</th>\n",
       "      <td>17284</td>\n",
       "      <td>Rift Between Officers and Residents as Killing...</td>\n",
       "      <td>New York Times</td>\n",
       "      <td>Benjamin Mueller and Al Baker</td>\n",
       "      <td>2017-06-19</td>\n",
       "      <td>2017.0</td>\n",
       "      <td>6.0</td>\n",
       "      <td>NaN</td>\n",
       "      <td>After the bullet shells get counted, the blood...</td>\n",
       "      <td>Left-Center</td>\n",
       "      <td>High</td>\n",
       "    </tr>\n",
       "    <tr>\n",
       "      <th>2</th>\n",
       "      <td>17285</td>\n",
       "      <td>Tyrus Wong, ‘Bambi’ Artist Thwarted by Racial ...</td>\n",
       "      <td>New York Times</td>\n",
       "      <td>Margalit Fox</td>\n",
       "      <td>2017-01-06</td>\n",
       "      <td>2017.0</td>\n",
       "      <td>1.0</td>\n",
       "      <td>NaN</td>\n",
       "      <td>When Walt Disney’s “Bambi” opened in 1942, cri...</td>\n",
       "      <td>Left-Center</td>\n",
       "      <td>High</td>\n",
       "    </tr>\n",
       "    <tr>\n",
       "      <th>3</th>\n",
       "      <td>17286</td>\n",
       "      <td>Among Deaths in 2016, a Heavy Toll in Pop Musi...</td>\n",
       "      <td>New York Times</td>\n",
       "      <td>William McDonald</td>\n",
       "      <td>2017-04-10</td>\n",
       "      <td>2017.0</td>\n",
       "      <td>4.0</td>\n",
       "      <td>NaN</td>\n",
       "      <td>Death may be the great equalizer, but it isn’t...</td>\n",
       "      <td>Left-Center</td>\n",
       "      <td>High</td>\n",
       "    </tr>\n",
       "    <tr>\n",
       "      <th>4</th>\n",
       "      <td>17287</td>\n",
       "      <td>Kim Jong-un Says North Korea Is Preparing to T...</td>\n",
       "      <td>New York Times</td>\n",
       "      <td>Choe Sang-Hun</td>\n",
       "      <td>2017-01-02</td>\n",
       "      <td>2017.0</td>\n",
       "      <td>1.0</td>\n",
       "      <td>NaN</td>\n",
       "      <td>SEOUL, South Korea  —   North Korea’s leader, ...</td>\n",
       "      <td>Left-Center</td>\n",
       "      <td>High</td>\n",
       "    </tr>\n",
       "    <tr>\n",
       "      <th>...</th>\n",
       "      <td>...</td>\n",
       "      <td>...</td>\n",
       "      <td>...</td>\n",
       "      <td>...</td>\n",
       "      <td>...</td>\n",
       "      <td>...</td>\n",
       "      <td>...</td>\n",
       "      <td>...</td>\n",
       "      <td>...</td>\n",
       "      <td>...</td>\n",
       "      <td>...</td>\n",
       "    </tr>\n",
       "    <tr>\n",
       "      <th>142565</th>\n",
       "      <td>218078</td>\n",
       "      <td>An eavesdropping Uber driver saved his 16-year...</td>\n",
       "      <td>Washington Post</td>\n",
       "      <td>Avi Selk</td>\n",
       "      <td>2016-12-30</td>\n",
       "      <td>2016.0</td>\n",
       "      <td>12.0</td>\n",
       "      <td>https://web.archive.org/web/20161231004909/htt...</td>\n",
       "      <td>Uber driver Keith Avila picked up a p...</td>\n",
       "      <td>Left-Center</td>\n",
       "      <td>High</td>\n",
       "    </tr>\n",
       "    <tr>\n",
       "      <th>142566</th>\n",
       "      <td>218079</td>\n",
       "      <td>Plane carrying six people returning from a Cav...</td>\n",
       "      <td>Washington Post</td>\n",
       "      <td>Sarah Larimer</td>\n",
       "      <td>2016-12-30</td>\n",
       "      <td>2016.0</td>\n",
       "      <td>12.0</td>\n",
       "      <td>https://web.archive.org/web/20161231004909/htt...</td>\n",
       "      <td>Crews on Friday continued to search L...</td>\n",
       "      <td>Left-Center</td>\n",
       "      <td>High</td>\n",
       "    </tr>\n",
       "    <tr>\n",
       "      <th>142567</th>\n",
       "      <td>218080</td>\n",
       "      <td>After helping a fraction of homeowners expecte...</td>\n",
       "      <td>Washington Post</td>\n",
       "      <td>Renae Merle</td>\n",
       "      <td>2016-12-30</td>\n",
       "      <td>2016.0</td>\n",
       "      <td>12.0</td>\n",
       "      <td>https://web.archive.org/web/20161231004909/htt...</td>\n",
       "      <td>When the Obama administration announced a...</td>\n",
       "      <td>Left-Center</td>\n",
       "      <td>High</td>\n",
       "    </tr>\n",
       "    <tr>\n",
       "      <th>142568</th>\n",
       "      <td>218081</td>\n",
       "      <td>Yes, this is real: Michigan just banned bannin...</td>\n",
       "      <td>Washington Post</td>\n",
       "      <td>Chelsea Harvey</td>\n",
       "      <td>2016-12-30</td>\n",
       "      <td>2016.0</td>\n",
       "      <td>12.0</td>\n",
       "      <td>https://web.archive.org/web/20161231004909/htt...</td>\n",
       "      <td>This story has been updated. A new law in...</td>\n",
       "      <td>Left-Center</td>\n",
       "      <td>High</td>\n",
       "    </tr>\n",
       "    <tr>\n",
       "      <th>142569</th>\n",
       "      <td>218082</td>\n",
       "      <td>What happened in Washington state after voters...</td>\n",
       "      <td>Washington Post</td>\n",
       "      <td>Christopher Ingraham</td>\n",
       "      <td>2016-12-29</td>\n",
       "      <td>2016.0</td>\n",
       "      <td>12.0</td>\n",
       "      <td>https://web.archive.org/web/20161231004909/htt...</td>\n",
       "      <td>The nation’s first recreational marijuana...</td>\n",
       "      <td>Left-Center</td>\n",
       "      <td>High</td>\n",
       "    </tr>\n",
       "  </tbody>\n",
       "</table>\n",
       "<p>142570 rows × 11 columns</p>\n",
       "</div>"
      ],
      "text/plain": [
       "            id                                              title  \\\n",
       "0        17283  House Republicans Fret About Winning Their Hea...   \n",
       "1        17284  Rift Between Officers and Residents as Killing...   \n",
       "2        17285  Tyrus Wong, ‘Bambi’ Artist Thwarted by Racial ...   \n",
       "3        17286  Among Deaths in 2016, a Heavy Toll in Pop Musi...   \n",
       "4        17287  Kim Jong-un Says North Korea Is Preparing to T...   \n",
       "...        ...                                                ...   \n",
       "142565  218078  An eavesdropping Uber driver saved his 16-year...   \n",
       "142566  218079  Plane carrying six people returning from a Cav...   \n",
       "142567  218080  After helping a fraction of homeowners expecte...   \n",
       "142568  218081  Yes, this is real: Michigan just banned bannin...   \n",
       "142569  218082  What happened in Washington state after voters...   \n",
       "\n",
       "            publication                         author        date    year  \\\n",
       "0        New York Times                     Carl Hulse  2016-12-31  2016.0   \n",
       "1        New York Times  Benjamin Mueller and Al Baker  2017-06-19  2017.0   \n",
       "2        New York Times                   Margalit Fox  2017-01-06  2017.0   \n",
       "3        New York Times               William McDonald  2017-04-10  2017.0   \n",
       "4        New York Times                  Choe Sang-Hun  2017-01-02  2017.0   \n",
       "...                 ...                            ...         ...     ...   \n",
       "142565  Washington Post                       Avi Selk  2016-12-30  2016.0   \n",
       "142566  Washington Post                  Sarah Larimer  2016-12-30  2016.0   \n",
       "142567  Washington Post                    Renae Merle  2016-12-30  2016.0   \n",
       "142568  Washington Post                 Chelsea Harvey  2016-12-30  2016.0   \n",
       "142569  Washington Post           Christopher Ingraham  2016-12-29  2016.0   \n",
       "\n",
       "        month                                                url  \\\n",
       "0        12.0                                                NaN   \n",
       "1         6.0                                                NaN   \n",
       "2         1.0                                                NaN   \n",
       "3         4.0                                                NaN   \n",
       "4         1.0                                                NaN   \n",
       "...       ...                                                ...   \n",
       "142565   12.0  https://web.archive.org/web/20161231004909/htt...   \n",
       "142566   12.0  https://web.archive.org/web/20161231004909/htt...   \n",
       "142567   12.0  https://web.archive.org/web/20161231004909/htt...   \n",
       "142568   12.0  https://web.archive.org/web/20161231004909/htt...   \n",
       "142569   12.0  https://web.archive.org/web/20161231004909/htt...   \n",
       "\n",
       "                                                  content      leaning factual  \n",
       "0       WASHINGTON  —   Congressional Republicans have...  Left-Center    High  \n",
       "1       After the bullet shells get counted, the blood...  Left-Center    High  \n",
       "2       When Walt Disney’s “Bambi” opened in 1942, cri...  Left-Center    High  \n",
       "3       Death may be the great equalizer, but it isn’t...  Left-Center    High  \n",
       "4       SEOUL, South Korea  —   North Korea’s leader, ...  Left-Center    High  \n",
       "...                                                   ...          ...     ...  \n",
       "142565           Uber driver Keith Avila picked up a p...  Left-Center    High  \n",
       "142566           Crews on Friday continued to search L...  Left-Center    High  \n",
       "142567       When the Obama administration announced a...  Left-Center    High  \n",
       "142568       This story has been updated. A new law in...  Left-Center    High  \n",
       "142569       The nation’s first recreational marijuana...  Left-Center    High  \n",
       "\n",
       "[142570 rows x 11 columns]"
      ]
     },
     "execution_count": 225,
     "metadata": {},
     "output_type": "execute_result"
    }
   ],
   "source": [
    "df_leans"
   ]
  },
  {
   "cell_type": "markdown",
   "metadata": {},
   "source": [
    "### Headline prediction"
   ]
  },
  {
   "cell_type": "code",
   "execution_count": 4,
   "metadata": {},
   "outputs": [
    {
     "data": {
      "text/html": [
       "<div>\n",
       "<style scoped>\n",
       "    .dataframe tbody tr th:only-of-type {\n",
       "        vertical-align: middle;\n",
       "    }\n",
       "\n",
       "    .dataframe tbody tr th {\n",
       "        vertical-align: top;\n",
       "    }\n",
       "\n",
       "    .dataframe thead th {\n",
       "        text-align: right;\n",
       "    }\n",
       "</style>\n",
       "<table border=\"1\" class=\"dataframe\">\n",
       "  <thead>\n",
       "    <tr style=\"text-align: right;\">\n",
       "      <th></th>\n",
       "      <th>id</th>\n",
       "      <th>title</th>\n",
       "      <th>publication</th>\n",
       "      <th>author</th>\n",
       "      <th>date</th>\n",
       "      <th>year</th>\n",
       "      <th>month</th>\n",
       "      <th>url</th>\n",
       "      <th>content</th>\n",
       "      <th>leaning</th>\n",
       "      <th>factual</th>\n",
       "    </tr>\n",
       "  </thead>\n",
       "  <tbody>\n",
       "    <tr>\n",
       "      <th>64875</th>\n",
       "      <td>96065</td>\n",
       "      <td>NaN</td>\n",
       "      <td>Talking Points Memo</td>\n",
       "      <td>NaN</td>\n",
       "      <td>2016-02-12</td>\n",
       "      <td>2016.0</td>\n",
       "      <td>2.0</td>\n",
       "      <td>https://web.archive.org/web/20160213080712/htt...</td>\n",
       "      <td>Harry Reid tries to drop kick Alan Grayson rig...</td>\n",
       "      <td>Left</td>\n",
       "      <td>Mostly Factual</td>\n",
       "    </tr>\n",
       "    <tr>\n",
       "      <th>120637</th>\n",
       "      <td>185332</td>\n",
       "      <td>NaN</td>\n",
       "      <td>Reuters</td>\n",
       "      <td>Daniel Wallis</td>\n",
       "      <td>2016-01-15</td>\n",
       "      <td>2016.0</td>\n",
       "      <td>1.0</td>\n",
       "      <td>http://www.reuters.com/article/us-oregon-milit...</td>\n",
       "      <td>The occupiers, who took over buildings at the ...</td>\n",
       "      <td>Least Biased</td>\n",
       "      <td>Very High</td>\n",
       "    </tr>\n",
       "  </tbody>\n",
       "</table>\n",
       "</div>"
      ],
      "text/plain": [
       "            id title          publication         author        date    year  \\\n",
       "64875    96065   NaN  Talking Points Memo            NaN  2016-02-12  2016.0   \n",
       "120637  185332   NaN              Reuters  Daniel Wallis  2016-01-15  2016.0   \n",
       "\n",
       "        month                                                url  \\\n",
       "64875     2.0  https://web.archive.org/web/20160213080712/htt...   \n",
       "120637    1.0  http://www.reuters.com/article/us-oregon-milit...   \n",
       "\n",
       "                                                  content       leaning  \\\n",
       "64875   Harry Reid tries to drop kick Alan Grayson rig...          Left   \n",
       "120637  The occupiers, who took over buildings at the ...  Least Biased   \n",
       "\n",
       "               factual  \n",
       "64875   Mostly Factual  \n",
       "120637       Very High  "
      ]
     },
     "execution_count": 4,
     "metadata": {},
     "output_type": "execute_result"
    }
   ],
   "source": [
    "df_leans[df_leans.title.isnull()]"
   ]
  },
  {
   "cell_type": "code",
   "execution_count": 5,
   "metadata": {},
   "outputs": [],
   "source": [
    "vectorizer = TfidfVectorizer(max_df = 0.3,\n",
    "                            min_df = 8,\n",
    "                            stop_words = 'english',\n",
    "                            lowercase=True,\n",
    "                            use_idf = True,\n",
    "                            smooth_idf=True)\n"
   ]
  },
  {
   "cell_type": "code",
   "execution_count": 6,
   "metadata": {},
   "outputs": [],
   "source": [
    "title_corpus = df_leans.title.drop([64875, 120637])\n",
    "y_title = df_leans.leaning.drop([64875, 120637])"
   ]
  },
  {
   "cell_type": "code",
   "execution_count": 7,
   "metadata": {},
   "outputs": [],
   "source": [
    "X_title = vectorizer.fit_transform(title_corpus)\n",
    "\n",
    "# Title train test split\n",
    "\n",
    "Xt_train, Xt_test, yt_train, yt_test = train_test_split(X_title, y_title, test_size = 0.25, random_state = 5)"
   ]
  },
  {
   "cell_type": "code",
   "execution_count": 8,
   "metadata": {},
   "outputs": [
    {
     "name": "stdout",
     "output_type": "stream",
     "text": [
      "0.52300646663325\n"
     ]
    }
   ],
   "source": [
    "nb_model = MultinomialNB(alpha=0.01, fit_prior=True, class_prior=None)\n",
    "nb_model.fit(Xt_train, yt_train)\n",
    "nb_pred = nb_model.predict(Xt_test)\n",
    "nb_score_f = metrics.f1_score(yt_test,nb_pred, average='weighted')\n",
    "print(nb_score_f)\n"
   ]
  },
  {
   "cell_type": "markdown",
   "metadata": {},
   "source": [
    "### Article prediction"
   ]
  },
  {
   "cell_type": "code",
   "execution_count": 3,
   "metadata": {},
   "outputs": [],
   "source": [
    "from scipy import sparse"
   ]
  },
  {
   "cell_type": "code",
   "execution_count": 4,
   "metadata": {},
   "outputs": [],
   "source": [
    "X = sparse.load_npz('data/news_sparsematrix.npz')"
   ]
  },
  {
   "cell_type": "code",
   "execution_count": 5,
   "metadata": {},
   "outputs": [
    {
     "data": {
      "text/plain": [
       "<142570x75804 sparse matrix of type '<class 'numpy.float64'>'\n",
       "\twith 34022160 stored elements in Compressed Sparse Row format>"
      ]
     },
     "execution_count": 5,
     "metadata": {},
     "output_type": "execute_result"
    }
   ],
   "source": [
    "X"
   ]
  },
  {
   "cell_type": "code",
   "execution_count": 7,
   "metadata": {},
   "outputs": [],
   "source": [
    "y = df_leans.leaning.values"
   ]
  },
  {
   "cell_type": "code",
   "execution_count": 8,
   "metadata": {},
   "outputs": [],
   "source": [
    "# Initial train test split\n",
    "\n",
    "X_train, X_test, y_train, y_test = train_test_split(X, y, test_size = 0.25, random_state = 5)"
   ]
  },
  {
   "cell_type": "code",
   "execution_count": 14,
   "metadata": {},
   "outputs": [],
   "source": [
    "acc_scores_df = pd.DataFrame(index=['MultinomialNB', 'ComplementNB', 'BernoulliNB'], columns = [1, 0.1, 0.01])\n",
    "f1_scores_df = pd.DataFrame(index=['MultinomialNB', 'ComplementNB', 'BernoulliNB'], columns = [1, 0.1, 0.01])\n",
    "\n",
    "for alpha in [1, 0.1, 0.01]:\n",
    "    nb_model = MultinomialNB(alpha=alpha, fit_prior=True, class_prior=None)\n",
    "    cnb_model = ComplementNB(alpha=alpha, fit_prior=True, class_prior=None)\n",
    "    bnb_model = BernoulliNB(alpha=alpha, fit_prior=True, class_prior=None)\n",
    "    \n",
    "    nb_model.fit(X_train, y_train)\n",
    "    cnb_model.fit(X_train, y_train)\n",
    "    bnb_model.fit(X_train, y_train)\n",
    "    \n",
    "    nb_pred = nb_model.predict(X_test)\n",
    "    cnb_pred = cnb_model.predict(X_test)\n",
    "    bnb_pred = bnb_model.predict(X_test)\n",
    "    \n",
    "    nb_score_a = metrics.accuracy_score(y_test, nb_pred)\n",
    "    cnb_score_a = metrics.accuracy_score(y_test, cnb_pred)\n",
    "    bnb_score_a = metrics.accuracy_score(y_test, bnb_pred)\n",
    "    \n",
    "    nb_score_f = metrics.f1_score(y_test, nb_pred, average='weighted')\n",
    "    cnb_score_f = metrics.f1_score(y_test, cnb_pred, average='weighted')\n",
    "    bnb_score_f = metrics.f1_score(y_test, bnb_pred, average='weighted')\n",
    "    \n",
    "    acc_scores_df[alpha] = [nb_score_a, cnb_score_a, bnb_score_a]\n",
    "    f1_scores_df[alpha] = [nb_score_f, cnb_score_f, bnb_score_f]"
   ]
  },
  {
   "cell_type": "code",
   "execution_count": 15,
   "metadata": {},
   "outputs": [
    {
     "data": {
      "image/png": "[encoded data removed]",
      "text/plain": [
       "<Figure size 720x432 with 1 Axes>"
      ]
     },
     "metadata": {},
     "output_type": "display_data"
    }
   ],
   "source": [
    "sns.set_style(\"darkgrid\")\n",
    "\n",
    "labels = acc_scores_df.index\n",
    "x = np.arange(len(labels))\n",
    "width = 0.20\n",
    "\n",
    "fig, ax = plt.subplots(figsize=(10,6))\n",
    "\n",
    "rects1 = ax.bar(x - width, acc_scores_df.iloc[:,0], width, label = 'alpha=1')\n",
    "rects2 = ax.bar(x, acc_scores_df.iloc[:,1], width, label = 'alpha=0.1')\n",
    "rects3 = ax.bar(x + width, acc_scores_df.iloc[:,2], width, label = 'alpha=0.01')\n",
    "\n",
    "ax.set_ylim((0,1.0))\n",
    "ax.set_xticks(x)\n",
    "ax.set_xticklabels(labels)\n",
    "ax.set_ylabel('Scores')\n",
    "ax.axhline(y=(58380 / 142570), color='black',linestyle = '--',alpha=0.6,label='Baseline')\n",
    "ax.legend()\n",
    "\n",
    "plt.tight_layout()\n",
    "plt.title('Accuracy Scores of Various Naive Bayes Classifiers')\n",
    "\n",
    "# plt.savefig('img/NBaccscores.png')\n",
    "plt.show()\n",
    "\n"
   ]
  },
  {
   "cell_type": "code",
   "execution_count": 231,
   "metadata": {},
   "outputs": [
    {
     "data": {
      "image/png": "[encoded data removed]",
      "text/plain": [
       "<Figure size 720x432 with 1 Axes>"
      ]
     },
     "metadata": {
      "needs_background": "light"
     },
     "output_type": "display_data"
    }
   ],
   "source": [
    "labels = f1_scores_df.index\n",
    "x = np.arange(len(labels))\n",
    "width = 0.20\n",
    "\n",
    "fig, ax = plt.subplots(figsize=(10,6))\n",
    "\n",
    "rects1 = ax.bar(x - width, f1_scores_df.iloc[:,0], width, label = 'alpha=1', color='grey')\n",
    "rects2 = ax.bar(x, f1_scores_df.iloc[:,1], width, label = 'alpha=0.1', color = 'purple')\n",
    "rects3 = ax.bar(x + width, f1_scores_df.iloc[:,2], width, label = 'alpha=0.01', color='red')\n",
    "\n",
    "ax.set_ylim((0,1.0))\n",
    "ax.set_xticks(x)\n",
    "ax.set_xticklabels(labels)\n",
    "ax.set_ylabel('Scores')\n",
    "ax.axhline(y=(58380 / 142570), color='black',linestyle = '--',alpha=0.6,label='Baseline')\n",
    "ax.axhline(y=0.53, color='green',linestyle = '--',alpha=0.6,label='Just Titles')\n",
    "ax.legend()\n",
    "\n",
    "plt.tight_layout()\n",
    "plt.title('F1 Scores of Various Naive Bayes Classifiers')\n",
    "\n",
    "# plt.savefig('img/NBF1scores.png')\n",
    "plt.show()\n",
    "\n"
   ]
  },
  {
   "cell_type": "code",
   "execution_count": 17,
   "metadata": {},
   "outputs": [
    {
     "data": {
      "image/png": "[encoded data removed]",
      "text/plain": [
       "<Figure size 648x504 with 2 Axes>"
      ]
     },
     "metadata": {},
     "output_type": "display_data"
    }
   ],
   "source": [
    "cmlabels = labels=['Least Biased', 'Left', 'Left-Center', 'Right-Center','Right', \n",
    "       'Right-Extreme']\n",
    "\n",
    "cm = confusion_matrix(y_test, nb_pred, labels=cmlabels)\n",
    "\n",
    "\n",
    "fig, ax = plt.subplots(figsize=(9,7))\n",
    "sns.heatmap(cm/np.sum(cm), annot=True, \n",
    "            fmt='.2%', cmap='Blues', xticklabels=cmlabels, yticklabels=cmlabels)\n",
    "\n",
    "plt.title('MultinomialNB Confusion Matrix for Political Lean')\n",
    "# plt.savefig('img/NBconfusionmatrix.png')\n",
    "plt.show()\n"
   ]
  },
  {
   "cell_type": "code",
   "execution_count": null,
   "metadata": {},
   "outputs": [],
   "source": []
  },
  {
   "cell_type": "code",
   "execution_count": null,
   "metadata": {},
   "outputs": [],
   "source": []
  }
 ],
 "metadata": {
  "kernelspec": {
   "display_name": "Python 3",
   "language": "python",
   "name": "python3"
  },
  "language_info": {
   "codemirror_mode": {
    "name": "ipython",
    "version": 3
   },
   "file_extension": ".py",
   "mimetype": "text/x-python",
   "name": "python",
   "nbconvert_exporter": "python",
   "pygments_lexer": "ipython3",
   "version": "3.7.7"
  }
 },
 "nbformat": 4,
 "nbformat_minor": 4
}
